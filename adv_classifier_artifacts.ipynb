{
 "cells": [
  {
   "cell_type": "code",
   "execution_count": 1,
   "metadata": {},
   "outputs": [],
   "source": [
    "import argparse\n",
    "import os\n",
    "import numpy as np\n",
    "import math\n",
    "import matplotlib.pyplot as plt\n",
    "import torchvision.transforms as transforms\n",
    "from torchvision.utils import save_image\n",
    "from utils import get_data, save_list, load_list\n",
    "from torch.utils.data import DataLoader\n",
    "from torchvision import datasets\n",
    "from torch.autograd import Variable\n",
    "import torch.optim as optim\n",
    "from torch.utils.data import Dataset, TensorDataset\n",
    "from sklearn.model_selection import train_test_split\n",
    "from sklearn.preprocessing import StandardScaler\n",
    "\n",
    "from utils import save_list, load_list\n",
    "from train import adv_classifier, train, train_bound, test, adjust_lr, weights_init\n",
    "\n",
    "import torch.nn as nn\n",
    "import torch.nn.functional as F\n",
    "import torch\n",
    "import pickle\n",
    "import time\n",
    "from sklearn.metrics import f1_score\n",
    "from sklearn.metrics import roc_curve\n",
    "\n",
    "import matplotlib.pyplot as plt\n",
    "import numpy as np\n",
    "import multiprocessing as mp\n",
    "\n",
    "import torch\n",
    "import torch.nn as nn\n",
    "import torch.nn.functional as F\n",
    "import torch.optim as optim\n",
    "\n",
    "from torch.utils.data import DataLoader, TensorDataset\n",
    "from torch.autograd import Variable\n",
    "import torchvision\n",
    "from torchvision.transforms import transforms\n",
    "\n",
    "from tqdm.notebook import tqdm\n",
    "import time\n",
    "from models import modelA\n",
    "from train_vgg19 import vgg19\n",
    "from utils import get_data, load_list, save_list\n",
    "from utils import normalize as Normalize\n",
    "import warnings\n",
    "\n",
    "from sklearn.preprocessing import scale\n",
    "from sklearn.neighbors import KernelDensity\n",
    "from sklearn.metrics import roc_curve, auc\n",
    "import scipy.io as sio\n",
    "from sklearn.preprocessing import scale\n",
    "from advertorch.attacks import PGDAttack, GradientSignAttack, LinfBasicIterativeAttack, \\\n",
    "                                    CarliniWagnerL2Attack, DDNL2Attack, SinglePixelAttack, JacobianSaliencyMapAttack\n",
    "from utils import CW\n",
    "\n",
    "from sklearn.linear_model import LogisticRegressionCV\n",
    "\n",
    "\n",
    "os.environ[\"CUDA_VISIBLE_DEVICES\"]=\"7\"\n",
    "device = 'cuda' if torch.cuda.is_available() else 'cpu'"
   ]
  },
  {
   "cell_type": "code",
   "execution_count": 2,
   "metadata": {},
   "outputs": [],
   "source": [
    "def Normalize(data):\n",
    "    data[:,0,:,:] -= 0.5\n",
    "    data[:,0,:,:] /= 1\n",
    "    \n",
    "    data[:,1,:,:] -= 0.5\n",
    "    data[:,1,:,:] /= 1\n",
    "    \n",
    "    data[:,2,:,:] -= 0.5\n",
    "    data[:,2,:,:] /= 1\n",
    "    \n",
    "    return data\n",
    "\n",
    "def Denormalize(data):\n",
    "    data[:,0,:,:] *= 1\n",
    "    data[:,0,:,:] += 0.5\n",
    "    \n",
    "    data[:,1,:,:] *= 1\n",
    "    data[:,1,:,:] += 0.5\n",
    "    \n",
    "    data[:,2,:,:] *= 1\n",
    "    data[:,2,:,:] += 0.5\n",
    "    \n",
    "    return data"
   ]
  },
  {
   "cell_type": "code",
   "execution_count": 3,
   "metadata": {},
   "outputs": [],
   "source": [
    "def flip(x, nb_diff):\n",
    "    original_shape = x.shape\n",
    "    x = np.copy(np.reshape(x, (-1,)))\n",
    "    candidate_inds = np.where(x < 0.99)[0]\n",
    "    assert candidate_inds.shape[0] >= nb_diff\n",
    "    inds = np.random.choice(candidate_inds, nb_diff)\n",
    "    x[inds] = 1.\n",
    "\n",
    "    return np.reshape(x, original_shape)"
   ]
  },
  {
   "cell_type": "code",
   "execution_count": 4,
   "metadata": {},
   "outputs": [],
   "source": [
    "def classifier_adv(data):\n",
    "        return F.log_softmax(model(data))"
   ]
  },
  {
   "cell_type": "code",
   "execution_count": 5,
   "metadata": {},
   "outputs": [],
   "source": [
    "def get_mc_predictions(model, X, nb_iter=50, batch_size=256):\n",
    "    model.train()\n",
    "    if dataset == 'mnist':\n",
    "        output_dim = list(model.children())[-1].out_features\n",
    "    else:\n",
    "        output_dim = list(model.children())[-1][-1].out_features\n",
    "    get_output = lambda data : F.softmax(model(data))\n",
    "#     get_output = lambda data : model(data)\n",
    "    X = torch.Tensor(X).to(device)\n",
    "    \n",
    "    def predict():\n",
    "        n_batches = int(np.ceil(X.shape[0] / float(batch_size)))\n",
    "        output = np.zeros(shape=(len(X), output_dim))\n",
    "        for i in range(n_batches):\n",
    "            output[i * batch_size:(i + 1) * batch_size] = get_output(X[i * batch_size:(i + 1) * batch_size]).detach().cpu().numpy()\n",
    "        return output\n",
    "\n",
    "    preds_mc = []\n",
    "    for i in tqdm(range(nb_iter)):\n",
    "        preds_mc.append(predict())\n",
    "\n",
    "    return np.asarray(preds_mc)"
   ]
  },
  {
   "cell_type": "code",
   "execution_count": 6,
   "metadata": {},
   "outputs": [],
   "source": [
    "def get_deep_representations(model, X, batch_size=256):\n",
    "    model.eval()\n",
    "    X = torch.Tensor(X).to(device)\n",
    "    # mnist modelA last hidden layer \n",
    "#     output_dim = model.layers[-4].output.shape[-1].value\n",
    "    last_hidden_idx = -3\n",
    "    if dataset == 'mnist':\n",
    "        output_dim = list(model.children())[last_hidden_idx].out_features\n",
    "    else:\n",
    "        output_dim = list(model.children())[-1][last_hidden_idx].out_features\n",
    "\n",
    "    last_hidden_output = None\n",
    "\n",
    "    def last_hidden_hook(module, input_, output):\n",
    "        nonlocal last_hidden_output\n",
    "        last_hidden_output = output\n",
    "    \n",
    "    if dataset == 'mnist':\n",
    "        list(model.children())[last_hidden_idx].register_forward_hook(last_hidden_hook)\n",
    "    else:\n",
    "        list(model.children())[-1][last_hidden_idx+1].register_forward_hook(last_hidden_hook)\n",
    "\n",
    "    n_batches = int(np.ceil(X.shape[0] / float(batch_size)))\n",
    "    output = np.zeros(shape=(len(X), output_dim))\n",
    "    for i in tqdm(range(n_batches)):\n",
    "#         output[i * batch_size:(i + 1) * batch_size] = get_encoding([X[i * batch_size:(i + 1) * batch_size], 0])[0]\n",
    "        model(X[i * batch_size:(i + 1) * batch_size])\n",
    "        output[i * batch_size:(i + 1) * batch_size] = last_hidden_output.detach().cpu().numpy()\n",
    "    return output"
   ]
  },
  {
   "cell_type": "code",
   "execution_count": 7,
   "metadata": {},
   "outputs": [],
   "source": [
    "def score_point(tup):\n",
    "    x, kde = tup\n",
    "    return kde.score_samples(np.reshape(x, (1, -1)))[0]\n",
    "\n",
    "def score_samples(kdes, samples, preds, n_jobs=None):\n",
    "    if n_jobs is not None:\n",
    "        p = mp.Pool(n_jobs)\n",
    "    else:\n",
    "        p = mp.Pool()\n",
    "    \n",
    "    results = p.map(score_point, [(x, kdes[i]) for x, i in zip(samples, preds)])\n",
    "    p.close()\n",
    "    p.join()\n",
    "\n",
    "    return results\n",
    "\n",
    "def normalize(normal, adv):\n",
    "    n_samples = len(normal)\n",
    "    total = scale(np.concatenate((normal, adv)))\n",
    "\n",
    "    return total[:n_samples], total[n_samples:]\n",
    "\n",
    "def train_lr(densities_pos, densities_neg, uncerts_pos, uncerts_neg):\n",
    "    values_neg = np.concatenate(\n",
    "        (densities_neg.reshape((1, -1)),\n",
    "         uncerts_neg.reshape((1, -1))),\n",
    "        axis=0).transpose([1, 0])\n",
    "    values_pos = np.concatenate(\n",
    "        (densities_pos.reshape((1, -1)),\n",
    "         uncerts_pos.reshape((1, -1))),\n",
    "        axis=0).transpose([1, 0])\n",
    "\n",
    "    values = np.concatenate((values_neg, values_pos))\n",
    "    labels = np.concatenate(\n",
    "        (np.zeros_like(densities_neg), np.ones_like(densities_pos)))\n",
    "\n",
    "    lr = LogisticRegressionCV(n_jobs=-1).fit(values, labels)\n",
    "\n",
    "    return values, labels, lr\n",
    "\n",
    "\n",
    "\n",
    "def compute_roc(probs_neg, probs_pos, labels, plot=True):\n",
    "    \"\"\"\n",
    "    TODO\n",
    "    :param probs_neg:\n",
    "    :param probs_pos:\n",
    "    :param plot:\n",
    "    :return:\n",
    "    \"\"\"\n",
    "    probs = np.concatenate((probs_neg, probs_pos))\n",
    "    labels = np.concatenate((np.zeros_like(probs_neg), np.ones_like(probs_pos)))\n",
    "    fpr, tpr, _ = roc_curve(labels, probs)\n",
    "    auc_score = auc(fpr, tpr)\n",
    "    if plot:\n",
    "        plt.figure(figsize=(7, 6))\n",
    "        plt.plot(fpr, tpr, color='blue',\n",
    "                 label='ROC (AUC = %0.4f)' % auc_score)\n",
    "        plt.plot([0, 1], [0, 1], color='navy', lw=0.5, linestyle='--')\n",
    "        plt.legend(loc='lower right')\n",
    "        plt.title(\"ROC Curve\")\n",
    "        plt.xlabel(\"FPR\")\n",
    "        plt.ylabel(\"TPR\")\n",
    "        plt.show()\n",
    "\n",
    "    return fpr, tpr, auc_score"
   ]
  },
  {
   "cell_type": "code",
   "execution_count": 80,
   "metadata": {},
   "outputs": [
    {
     "name": "stdout",
     "output_type": "stream",
     "text": [
      "Loading cifar data set\n",
      "Loading cifar data set finished\n"
     ]
    }
   ],
   "source": [
    "dataset = 'cifar'\n",
    "attack='pgd'\n",
    "\n",
    "# X_train_list = '../gen/adv_data/v2/mnist/org/mnist_org_data/mnist_org_train_24000.pkl'\n",
    "\n",
    "# X_test_list = '../gen/adv_data/v2/mnist/org/mnist_org_data/mnist_org_test_6000.pkl'\n",
    "\n",
    "# X_train_adv_list = [\n",
    "#     '../gen/adv_data/v2/mnist/fgsm/mnist_fgsm_attacked_eps0.30_tpr92/mnist_fgsm_train_8000.pkl',\n",
    "#     '../gen/adv_data/v2/mnist/pgd/mnist_pgd_attacked_eps0.30_tpr100/mnist_pgd_train_8000.pkl',\n",
    "#     '../gen/adv_data/v2/mnist/cw/mnist_cw_attacked_eps0.30_tpr100/mnist_cw_train_8000.pkl',\n",
    "# ]\n",
    "\n",
    "# X_test_adv_list = [\n",
    "# #     '../gen/adv_data/v2/mnist/fgsm/mnist_fgsm_attacked_eps0.30_tpr92/mnist_fgsm_test_2000.pkl',\n",
    "# #     '../gen/adv_data/v2/mnist/pgd/mnist_pgd_attacked_eps0.30_tpr100/mnist_pgd_test_2000.pkl',\n",
    "#     '../gen/adv_data/v2/mnist/cw/mnist_cw_attacked_eps0.30_tpr100/mnist_cw_test_2000.pkl',\n",
    "# ]\n",
    "\n",
    "X_train_list = '../gen/adv_data/v2/cifar10/org/cifar10_org_data/cifar10_org_train_24000.pkl'\n",
    "\n",
    "X_test_list = '../gen/adv_data/v2/cifar10/org/cifar10_org_data/cifar10_org_test_6000.pkl'\n",
    "\n",
    "X_train_adv_list = [\n",
    "    '../gen/adv_data/v2/cifar10/fgsm/cifar10_fgsm_attacked_eps0.01_tpr54/cifar10_fgsm_train_8000.pkl',\n",
    "    '../gen/adv_data/v2/cifar10/pgd/cifar10_pgd_attacked_eps0.01_tpr64/cifar10_pgd_train_8000.pkl',\n",
    "    '../gen/adv_data/v2/cifar10/cw/cifar10_cw_attacked_eps0.01_tpr62/cifar10_cw_train_8000.pkl',\n",
    "]\n",
    "\n",
    "X_test_adv_list = [\n",
    "#     '../gen/adv_data/v2/cifar10/fgsm/cifar10_fgsm_attacked_eps0.01_tpr54/cifar10_fgsm_test_2000.pkl',\n",
    "    '../gen/adv_data/v2/cifar10/pgd/cifar10_pgd_attacked_eps0.01_tpr64/cifar10_pgd_test_2000.pkl',\n",
    "#     '../gen/adv_data/v2/cifar10/cw/cifar10_cw_attacked_eps0.01_tpr62/cifar10_cw_test_2000.pkl',\n",
    "]\n",
    "\n",
    "\n",
    "\n",
    "print('Loading %s data set' % dataset)\n",
    "if dataset == 'mnist':\n",
    "    X_train, Y_train = load_list(X_train_list)[0].reshape(-1, 1, 28, 28), load_list(X_train_list)[1]\n",
    "    X_test, Y_test = load_list(X_test_list)[0].reshape(-1, 1, 28, 28), load_list(X_test_list)[1]\n",
    "elif dataset == 'cifar':\n",
    "    X_train, Y_train = load_list(X_train_list)[0].reshape(-1, 3, 32, 32), load_list(X_train_list)[1]\n",
    "    X_test, Y_test = load_list(X_test_list)[0].reshape(-1, 3, 32, 32), load_list(X_test_list)[1]\n",
    "    X_train = Normalize(X_train)\n",
    "    X_test = Normalize(X_test)\n",
    "    \n",
    "X_train_adv = None\n",
    "X_test_adv = None\n",
    "Y_train_adv = None\n",
    "Y_test_adv = None\n",
    "for i in range(len(X_train_adv_list)):\n",
    "    if i == 0:\n",
    "        if dataset == 'mnist':\n",
    "            X_train_adv = load_list(X_train_adv_list[i])[0].reshape(-1, 1, 28, 28)\n",
    "            X_test_adv = load_list(X_test_adv_list[i])[0].reshape(-1, 1, 28, 28)\n",
    "        elif dataset == 'cifar':\n",
    "            X_train_adv = load_list(X_train_adv_list[i])[0].reshape(-1, 3, 32, 32)\n",
    "            X_train_adv = Normalize(X_train_adv)\n",
    "            X_test_adv = load_list(X_test_adv_list[i])[0].reshape(-1, 3, 32, 32)\n",
    "            X_test_adv = Normalize(X_test_adv)\n",
    "        Y_train_adv = load_list(X_train_adv_list[i])[1]\n",
    "        Y_test_adv = load_list(X_test_adv_list[i])[1]\n",
    "    else:\n",
    "        if dataset == 'mnist':\n",
    "            train_data = load_list(X_train_adv_list[i])[0].reshape(-1, 1, 28, 28)\n",
    "        elif dataset == 'cifar':\n",
    "            train_data = load_list(X_train_adv_list[i])[0].reshape(-1, 3, 32, 32)\n",
    "            train_data = Normalize(train_data)\n",
    "        train_label = load_list(X_train_adv_list[i])[1]\n",
    "        X_train_adv = np.concatenate((X_train_adv, train_data))\n",
    "        Y_train_adv = np.concatenate((Y_train_adv, train_label))\n",
    "\n",
    "\n",
    "print('Loading %s data set finished' % dataset)\n",
    "    \n",
    "batch_size = 100\n",
    "class_num = 10\n",
    "\n",
    "# Gaussian kernel bandwidth for kernel density estimation\n",
    "BANDWIDTHS = {'mnist': 1.20, 'cifar': 0.26}"
   ]
  },
  {
   "cell_type": "code",
   "execution_count": 81,
   "metadata": {},
   "outputs": [
    {
     "data": {
      "text/plain": [
       "((24000, 3, 32, 32), (6000, 3, 32, 32), (24000,), (6000,))"
      ]
     },
     "execution_count": 81,
     "metadata": {},
     "output_type": "execute_result"
    }
   ],
   "source": [
    "X_train.shape, X_test.shape, Y_train.shape, Y_test.shape"
   ]
  },
  {
   "cell_type": "code",
   "execution_count": 82,
   "metadata": {},
   "outputs": [
    {
     "data": {
      "text/plain": [
       "((24000, 3, 32, 32), (2000, 3, 32, 32), (24000,), (2000,))"
      ]
     },
     "execution_count": 82,
     "metadata": {},
     "output_type": "execute_result"
    }
   ],
   "source": [
    "X_train_adv.shape, X_test_adv.shape, Y_train_adv.shape, Y_test_adv.shape"
   ]
  },
  {
   "cell_type": "code",
   "execution_count": 83,
   "metadata": {},
   "outputs": [
    {
     "name": "stdout",
     "output_type": "stream",
     "text": [
      "cifar Model loading complete!\n"
     ]
    }
   ],
   "source": [
    "# mnist\n",
    "if dataset == 'mnist':\n",
    "    model = modelA()\n",
    "    checkpoint = torch.load('../gen/models/mnist/modelA/modelA.pkl')\n",
    "    model.load_state_dict(checkpoint)\n",
    "    model.eval()\n",
    "    model.to(device)\n",
    "elif dataset == 'cifar':\n",
    "    model = vgg19()\n",
    "#     model.features = torch.nn.DataParallel(model.features)\n",
    "    model.to(device)\n",
    "    checkpoint = torch.load('../gen/models/cifar10/vgg19/scale_0.5/best.pt')\n",
    "    model.load_state_dict(checkpoint)\n",
    "    model.eval()\n",
    "else:\n",
    "    #Imagenet model loading\n",
    "    pass\n",
    "    \n",
    "print('%s Model loading complete!'%dataset)"
   ]
  },
  {
   "cell_type": "code",
   "execution_count": 84,
   "metadata": {},
   "outputs": [
    {
     "name": "stdout",
     "output_type": "stream",
     "text": [
      "Model accuracy on the normal train test set: 100.00%\n",
      "Model accuracy on the normal test test set: 100.00%\n"
     ]
    }
   ],
   "source": [
    "for s_type, dset in zip(['normal train', 'normal test'], [[X_train, Y_train], [X_test, Y_test]]):\n",
    "    model.eval()\n",
    "    \n",
    "    if dataset == 'mnist':\n",
    "        dset = TensorDataset(torch.Tensor(dset[0].reshape(-1, 1, 28, 28)), torch.Tensor(dset[1]))\n",
    "    elif dataset == 'cifar':\n",
    "        dset = TensorDataset(torch.Tensor(dset[0].reshape(-1, 3, 32, 32)), torch.Tensor(dset[1]))\n",
    "        \n",
    "    dset_loader = DataLoader(dset, batch_size=batch_size, shuffle=True, num_workers=10)\n",
    "        \n",
    "    correct = 0\n",
    "    for data, target in dset_loader:\n",
    "        data, target = data.to(device), target.to(device)\n",
    "        output = model(data)\n",
    "        pred = torch.argmax(output, 1)\n",
    "        \n",
    "        correct += (pred.detach().cpu().numpy() == target.cpu().numpy()).sum()\n",
    "        \n",
    "    acc = correct / len(dset)\n",
    "    \n",
    "    print(\"Model accuracy on the %s test set: %0.2f%%\" %\n",
    "              (s_type, 100 * acc))"
   ]
  },
  {
   "cell_type": "markdown",
   "metadata": {},
   "source": [
    "# Bayesian uncertainty"
   ]
  },
  {
   "cell_type": "code",
   "execution_count": 85,
   "metadata": {},
   "outputs": [
    {
     "name": "stdout",
     "output_type": "stream",
     "text": [
      "Getting Monte Carlo dropout variance predictions...\n"
     ]
    },
    {
     "data": {
      "application/vnd.jupyter.widget-view+json": {
       "model_id": "250a81d3c60b425ebc6433975a68a757",
       "version_major": 2,
       "version_minor": 0
      },
      "text/plain": [
       "HBox(children=(IntProgress(value=0, max=50), HTML(value='')))"
      ]
     },
     "metadata": {},
     "output_type": "display_data"
    },
    {
     "name": "stdout",
     "output_type": "stream",
     "text": [
      "\n"
     ]
    },
    {
     "data": {
      "application/vnd.jupyter.widget-view+json": {
       "model_id": "c890af24ed6a4313885a23562816d610",
       "version_major": 2,
       "version_minor": 0
      },
      "text/plain": [
       "HBox(children=(IntProgress(value=0, max=50), HTML(value='')))"
      ]
     },
     "metadata": {},
     "output_type": "display_data"
    },
    {
     "name": "stdout",
     "output_type": "stream",
     "text": [
      "\n"
     ]
    },
    {
     "data": {
      "application/vnd.jupyter.widget-view+json": {
       "model_id": "1650cf71718643b19e5b7f80147f1e78",
       "version_major": 2,
       "version_minor": 0
      },
      "text/plain": [
       "HBox(children=(IntProgress(value=0, max=50), HTML(value='')))"
      ]
     },
     "metadata": {},
     "output_type": "display_data"
    },
    {
     "name": "stdout",
     "output_type": "stream",
     "text": [
      "\n"
     ]
    },
    {
     "data": {
      "application/vnd.jupyter.widget-view+json": {
       "model_id": "f4fd032fb6fd4325a2284fc440ce5821",
       "version_major": 2,
       "version_minor": 0
      },
      "text/plain": [
       "HBox(children=(IntProgress(value=0, max=50), HTML(value='')))"
      ]
     },
     "metadata": {},
     "output_type": "display_data"
    },
    {
     "name": "stdout",
     "output_type": "stream",
     "text": [
      "\n",
      "Mean Unvertainty of normal trian data : 8.029414228956378e-06\n",
      "Mean Unvertainty of normal test data : 7.396341060748109e-06\n",
      "Mean Unvertainty of adversarial trian data : 0.0032157706190707345\n",
      "Mean Unvertainty of adversarial test data : 0.001479925829548367\n"
     ]
    }
   ],
   "source": [
    "print('Getting Monte Carlo dropout variance predictions...')\n",
    "uncerts_normal_train = get_mc_predictions(model, X_train, batch_size=batch_size).var(axis=0).mean(axis=1)\n",
    "uncerts_adv_train = get_mc_predictions(model, X_train_adv, batch_size=batch_size).var(axis=0).mean(axis=1)\n",
    "uncerts_normal_test = get_mc_predictions(model, X_test, batch_size=batch_size).var(axis=0).mean(axis=1)\n",
    "uncerts_adv_test = get_mc_predictions(model, X_test_adv, batch_size=batch_size).var(axis=0).mean(axis=1)\n",
    "\n",
    "print('Mean Unvertainty of normal trian data :', uncerts_normal_train.mean())\n",
    "print('Mean Unvertainty of normal test data :', uncerts_normal_test.mean())\n",
    "print('Mean Unvertainty of adversarial trian data :', uncerts_adv_train.mean())\n",
    "print('Mean Unvertainty of adversarial test data :', uncerts_adv_test.mean())"
   ]
  },
  {
   "cell_type": "markdown",
   "metadata": {},
   "source": [
    "# Kernel Density estimation score"
   ]
  },
  {
   "cell_type": "code",
   "execution_count": 86,
   "metadata": {},
   "outputs": [
    {
     "name": "stdout",
     "output_type": "stream",
     "text": [
      "Getting deep feature representations...\n"
     ]
    },
    {
     "data": {
      "application/vnd.jupyter.widget-view+json": {
       "model_id": "15a3b9c8ed6d497aab0bacbb70159ab5",
       "version_major": 2,
       "version_minor": 0
      },
      "text/plain": [
       "HBox(children=(IntProgress(value=0, max=240), HTML(value='')))"
      ]
     },
     "metadata": {},
     "output_type": "display_data"
    },
    {
     "name": "stdout",
     "output_type": "stream",
     "text": [
      "\n"
     ]
    },
    {
     "data": {
      "application/vnd.jupyter.widget-view+json": {
       "model_id": "352c042d10d041608d041461167780b4",
       "version_major": 2,
       "version_minor": 0
      },
      "text/plain": [
       "HBox(children=(IntProgress(value=0, max=60), HTML(value='')))"
      ]
     },
     "metadata": {},
     "output_type": "display_data"
    },
    {
     "name": "stdout",
     "output_type": "stream",
     "text": [
      "\n"
     ]
    },
    {
     "data": {
      "application/vnd.jupyter.widget-view+json": {
       "model_id": "46381f0c7a2849ce9f3bd8e684edecdf",
       "version_major": 2,
       "version_minor": 0
      },
      "text/plain": [
       "HBox(children=(IntProgress(value=0, max=240), HTML(value='')))"
      ]
     },
     "metadata": {},
     "output_type": "display_data"
    },
    {
     "name": "stdout",
     "output_type": "stream",
     "text": [
      "\n"
     ]
    },
    {
     "data": {
      "application/vnd.jupyter.widget-view+json": {
       "model_id": "5eab787ff84b4a07b5e39a6cb6312336",
       "version_major": 2,
       "version_minor": 0
      },
      "text/plain": [
       "HBox(children=(IntProgress(value=0, max=20), HTML(value='')))"
      ]
     },
     "metadata": {},
     "output_type": "display_data"
    },
    {
     "name": "stdout",
     "output_type": "stream",
     "text": [
      "\n",
      "Mean KDE of normal train data : 0.5106019905875178\n",
      "Mean KDE of normal test data : 0.5144447820971868\n",
      "Mean KDE of adversarial train data : 0.3635040971192729\n",
      "Mean KDE of adversarial test data : 0.40312969919407043\n"
     ]
    }
   ],
   "source": [
    "print('Getting deep feature representations...')\n",
    "X_normal_train_features = get_deep_representations(model, X_train, batch_size=batch_size)\n",
    "X_normal_test_features = get_deep_representations(model, X_test, batch_size=batch_size)\n",
    "X_adv_train_features = get_deep_representations(model, X_train_adv, batch_size=batch_size)\n",
    "X_adv_test_features = get_deep_representations(model, X_test_adv, batch_size=batch_size)\n",
    "\n",
    "print('Mean KDE of normal train data :', X_normal_train_features.mean())\n",
    "print('Mean KDE of normal test data :', X_normal_test_features.mean())\n",
    "print('Mean KDE of adversarial train data :', X_adv_train_features.mean())\n",
    "print('Mean KDE of adversarial test data :', X_adv_test_features.mean())"
   ]
  },
  {
   "cell_type": "code",
   "execution_count": 87,
   "metadata": {},
   "outputs": [
    {
     "name": "stdout",
     "output_type": "stream",
     "text": [
      "Training KDEs...\n",
      "Training finished!\n"
     ]
    }
   ],
   "source": [
    "print('Training KDEs...')\n",
    "class_inds = {}\n",
    "Y_train = np.eye(10)[Y_train]\n",
    "for i in range(Y_train.shape[1]):\n",
    "    class_inds[i] = np.where(Y_train.argmax(axis=1) == i)[0]\n",
    "kdes = {}\n",
    "warnings.warn(\"Using pre-set kernel bandwidths that were determined \"\n",
    "              \"optimal for the specific CNN models of the paper. If you've \"\n",
    "              \"changed your model, you'll need to re-optimize the \"\n",
    "              \"bandwidth.\")\n",
    "for i in range(Y_train.shape[1]):\n",
    "    kdes[i] = KernelDensity(kernel='gaussian', bandwidth=BANDWIDTHS[dataset]).fit(X_normal_train_features[class_inds[i]])\n",
    "print('Training finished!')"
   ]
  },
  {
   "cell_type": "code",
   "execution_count": 88,
   "metadata": {},
   "outputs": [
    {
     "name": "stdout",
     "output_type": "stream",
     "text": [
      "Computing model predictions...\n",
      "Computing prediction finished!\n"
     ]
    }
   ],
   "source": [
    "# Get model predictions\n",
    "print('Computing model predictions...')\n",
    "model.eval()\n",
    "preds_train_normal = np.argmax(Y_train, 1)\n",
    "preds_test_normal = Y_test\n",
    "preds_train_adv = Y_train_adv\n",
    "preds_test_adv = Y_test_adv\n",
    "print('Computing prediction finished!')"
   ]
  },
  {
   "cell_type": "code",
   "execution_count": 89,
   "metadata": {},
   "outputs": [
    {
     "name": "stdout",
     "output_type": "stream",
     "text": [
      "computing densities...\n",
      "Computing densities finished!\n",
      "Elapsed time : 256.59733629226685\n"
     ]
    }
   ],
   "source": [
    "# Get density estimates\n",
    "print('computing densities...')\n",
    "stime = time.time()\n",
    "\n",
    "densities_normal_train = score_samples(\n",
    "    kdes,\n",
    "    X_normal_train_features,\n",
    "    preds_train_normal\n",
    ")\n",
    "\n",
    "densities_normal_test = score_samples(\n",
    "    kdes,\n",
    "    X_normal_test_features,\n",
    "    preds_test_normal\n",
    ")\n",
    "\n",
    "densities_adv_train = score_samples(\n",
    "    kdes,\n",
    "    X_adv_train_features,\n",
    "    preds_train_adv\n",
    ")\n",
    "\n",
    "densities_adv_test = score_samples(\n",
    "    kdes,\n",
    "    X_adv_test_features,\n",
    "    preds_test_adv\n",
    ")\n",
    "\n",
    "etime = time.time()\n",
    "print('Computing densities finished!')\n",
    "print('Elapsed time :', (etime-stime))"
   ]
  },
  {
   "cell_type": "code",
   "execution_count": 90,
   "metadata": {},
   "outputs": [],
   "source": [
    "# uncerts_normal_train, uncerts_normal_test\n",
    "# uncerts_adv_train, uncerts_adv_test\n",
    "# densities_normal_train, densities_normal_test\n",
    "# densities_adv_train, densities_adv_test\n",
    "\n",
    "uncerts_normal_z_train, uncerts_adv_z_train = normalize(\n",
    "    uncerts_normal_train,\n",
    "    uncerts_adv_train,\n",
    ")\n",
    "\n",
    "uncerts_normal_z_test, uncerts_adv_z_test = normalize(\n",
    "    uncerts_normal_test,\n",
    "    uncerts_adv_test,\n",
    ")\n",
    "\n",
    "densities_normal_z_train, densities_adv_z_train = normalize(\n",
    "    densities_normal_train,\n",
    "    densities_adv_train,\n",
    ")\n",
    "\n",
    "densities_normal_z_test, densities_adv_z_test = normalize(\n",
    "    densities_normal_test,\n",
    "    densities_adv_test,\n",
    ")"
   ]
  },
  {
   "cell_type": "code",
   "execution_count": 91,
   "metadata": {},
   "outputs": [
    {
     "data": {
      "text/plain": [
       "((24000,), (24000,), (6000,), (2000,))"
      ]
     },
     "execution_count": 91,
     "metadata": {},
     "output_type": "execute_result"
    }
   ],
   "source": [
    "uncerts_normal_z_train.shape, uncerts_adv_z_train.shape, uncerts_normal_z_test.shape, uncerts_adv_z_test.shape"
   ]
  },
  {
   "cell_type": "code",
   "execution_count": 92,
   "metadata": {},
   "outputs": [
    {
     "data": {
      "text/plain": [
       "((24000,), (24000,), (6000,), (2000,))"
      ]
     },
     "execution_count": 92,
     "metadata": {},
     "output_type": "execute_result"
    }
   ],
   "source": [
    "densities_normal_z_train.shape, densities_adv_z_train.shape, densities_normal_z_test.shape, densities_adv_z_test.shape"
   ]
  },
  {
   "cell_type": "code",
   "execution_count": 93,
   "metadata": {},
   "outputs": [
    {
     "name": "stdout",
     "output_type": "stream",
     "text": [
      "Training start...\n",
      "Training end!\n"
     ]
    }
   ],
   "source": [
    "print('Training start...')\n",
    "\n",
    "values, labels, lr = train_lr(\n",
    "    densities_pos=densities_adv_z_train,\n",
    "    densities_neg=densities_normal_z_train,\n",
    "    uncerts_pos=uncerts_adv_z_train,\n",
    "    uncerts_neg=uncerts_normal_z_train\n",
    ")\n",
    "\n",
    "print('Training end!')"
   ]
  },
  {
   "cell_type": "code",
   "execution_count": 94,
   "metadata": {},
   "outputs": [],
   "source": [
    "values_neg = np.concatenate(\n",
    "    (densities_normal_z_test.reshape((1, -1)),\n",
    "     uncerts_normal_z_test.reshape((1, -1))),\n",
    "    axis=0).transpose([1, 0])\n",
    "\n",
    "values_pos = np.concatenate(\n",
    "    (densities_adv_z_test.reshape((1, -1)),\n",
    "     uncerts_adv_z_test.reshape((1, -1))),\n",
    "    axis=0).transpose([1, 0])\n",
    "\n",
    "values = np.concatenate((values_neg, values_pos))\n",
    "labels = np.concatenate((np.zeros_like(densities_normal_z_test), np.ones_like(densities_adv_z_test)))"
   ]
  },
  {
   "cell_type": "code",
   "execution_count": 95,
   "metadata": {},
   "outputs": [
    {
     "data": {
      "image/png": "[encoded data removed]",
      "text/plain": [
       "<Figure size 504x432 with 1 Axes>"
      ]
     },
     "metadata": {
      "needs_background": "light"
     },
     "output_type": "display_data"
    },
    {
     "name": "stdout",
     "output_type": "stream",
     "text": [
      "Detector ROC-AUC score: 0.75188\n"
     ]
    }
   ],
   "source": [
    "## Evaluate detector\n",
    "# Compute logistic regression model predictions\n",
    "probs = lr.predict_proba(values)[:, 1]\n",
    "# Compute AUC\n",
    "n_samples = len(X_test)\n",
    "\n",
    "fpr, tpr, auc_score = compute_roc(\n",
    "    probs_neg=probs[:n_samples],\n",
    "    probs_pos=probs[n_samples:],\n",
    "    labels=labels\n",
    ")\n",
    "print('Detector ROC-AUC score: %0.5f' % auc_score)"
   ]
  },
  {
   "cell_type": "code",
   "execution_count": 96,
   "metadata": {},
   "outputs": [],
   "source": [
    "save_list([fpr, tpr, auc_score], '../roc/artifacts/%s_%s_roc.pkl' % (dataset, attack))"
   ]
  },
  {
   "cell_type": "code",
   "execution_count": 97,
   "metadata": {},
   "outputs": [
    {
     "data": {
      "text/plain": [
       "0.751882375"
      ]
     },
     "execution_count": 97,
     "metadata": {},
     "output_type": "execute_result"
    }
   ],
   "source": [
    "load_list('../roc/artifacts/%s_%s_roc.pkl' % (dataset, attack))[2]"
   ]
  },
  {
   "cell_type": "code",
   "execution_count": null,
   "metadata": {},
   "outputs": [],
   "source": []
  },
  {
   "cell_type": "code",
   "execution_count": null,
   "metadata": {},
   "outputs": [],
   "source": []
  },
  {
   "cell_type": "code",
   "execution_count": null,
   "metadata": {},
   "outputs": [],
   "source": []
  },
  {
   "cell_type": "code",
   "execution_count": null,
   "metadata": {},
   "outputs": [],
   "source": []
  },
  {
   "cell_type": "code",
   "execution_count": null,
   "metadata": {},
   "outputs": [],
   "source": []
  },
  {
   "cell_type": "markdown",
   "metadata": {},
   "source": [
    "# ROC curve"
   ]
  },
  {
   "cell_type": "code",
   "execution_count": 560,
   "metadata": {},
   "outputs": [],
   "source": [
    "fpr = dict()\n",
    "tpr = dict()\n",
    "roc_auc = dict()\n",
    "pred_list = []\n",
    "target_list = []\n",
    "output_list = []\n",
    "\n",
    "model.eval()\n",
    "\n",
    "for data, target in test_loader:\n",
    "    data, target = data.to(device), target.to(device)\n",
    "    target = target.reshape(-1, 1)\n",
    "    output = model(data)\n",
    "    pred = (output >= 0.5).float()\n",
    "    \n",
    "    output_list.append(output.detach().cpu().numpy())\n",
    "    pred_list.append(pred.detach().cpu().numpy())\n",
    "    target_list.append(target.detach().cpu().numpy())\n",
    "\n",
    "pred_list = np.array(pred_list).reshape(-1)\n",
    "output_list = np.array(output_list).reshape(-1)\n",
    "target_list = np.array(target_list).reshape(-1)\n",
    "    \n",
    "for i in range(1):\n",
    "    fpr[i], tpr[i], _ = roc_curve(target_list, output_list)\n",
    "    roc_auc[i] = auc(fpr[i], tpr[i])\n",
    "\n",
    "# Compute micro-average ROC curve and ROC area\n",
    "fpr[\"micro\"], tpr[\"micro\"], _ = roc_curve(target_list.ravel(), output_list.ravel())\n",
    "roc_auc[\"micro\"] = auc(fpr[\"micro\"], tpr[\"micro\"])"
   ]
  },
  {
   "cell_type": "code",
   "execution_count": 590,
   "metadata": {},
   "outputs": [
    {
     "data": {
      "image/png": "[encoded data removed]",
      "text/plain": [
       "<Figure size 720x432 with 1 Axes>"
      ]
     },
     "metadata": {
      "needs_background": "light"
     },
     "output_type": "display_data"
    }
   ],
   "source": [
    "roc_list = ['./roc/roc_BWA(CW)_eps001.pkl', './roc/roc_BWA(CW)_eps03.pkl', \n",
    "            './roc/roc_BWA(PGD)_eps001.pkl', './roc/roc_BWA(PGD)_eps03.pkl']\n",
    "legend_label = ['BWA(CW)_LR0.01', 'BWA(CW)_LR0.3', 'BWA(PGD)_LR0.01', 'BWA(PGD)_LR0.3']\n",
    "plt.rcParams[\"figure.figsize\"] = (10,6)\n",
    "\n",
    "for idx, r in enumerate(roc_list):\n",
    "    # plt.figure()\n",
    "    lw = 2\n",
    "    data = load_list(r)\n",
    "    fpr = data[0]\n",
    "    tpr = data[1]\n",
    "    roc_auc = data[2]\n",
    "    plt.plot(fpr[0], tpr[0],\n",
    "             lw=lw, label='%s (area = %0.2f)' % (legend_label[idx], roc_auc[0]))\n",
    "    plt.plot([0, 1], [0, 1], color='navy', lw=lw, linestyle='--')\n",
    "    plt.xlim([0.0, 1.0])\n",
    "    plt.ylim([0.0, 1.05])\n",
    "    plt.xlabel('FPR' , fontsize=14)\n",
    "    plt.ylabel('TPR' , fontsize=14)\n",
    "    plt.legend(loc=\"lower right\")\n",
    "plt.show()"
   ]
  },
  {
   "cell_type": "code",
   "execution_count": null,
   "metadata": {},
   "outputs": [],
   "source": []
  }
 ],
 "metadata": {
  "kernelspec": {
   "display_name": "Python 3",
   "language": "python",
   "name": "python3"
  },
  "language_info": {
   "codemirror_mode": {
    "name": "ipython",
    "version": 3
   },
   "file_extension": ".py",
   "mimetype": "text/x-python",
   "name": "python",
   "nbconvert_exporter": "python",
   "pygments_lexer": "ipython3",
   "version": "3.7.4"
  }
 },
 "nbformat": 4,
 "nbformat_minor": 2
}
